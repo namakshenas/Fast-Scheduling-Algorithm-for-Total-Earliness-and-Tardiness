{
 "cells": [
  {
   "cell_type": "markdown",
   "metadata": {
    "colab_type": "text",
    "id": "1_u2afC3BNBA"
   },
   "source": [
    "\n",
    "# Instruction and Results: ClusterOmedianIZE Algorithm for $1 \\mid p_j =p \\mid TE$\n",
    "\n",
    "This notebook is part of the research based on paper _Migration from Sequence to Schedule in Total Earliness and Tardiness Scheduling Problem_. ([here](http://www.optimization-online.org/DB_HTML/2019/07/7280.html)).\n",
    "\n",
    "> This notebook runs on Python 2.\n",
    "\n",
    "---\n",
    "\n"
   ]
  },
  {
   "cell_type": "code",
   "execution_count": 22,
   "metadata": {
    "colab": {},
    "colab_type": "code",
    "id": "tSGdhizfBTC9"
   },
   "outputs": [],
   "source": [
    "from collections import OrderedDict\n",
    "import numpy as np\n",
    "# new function\n",
    "def detectChainFirst(nbJobs,due,s,pr):\n",
    "    c = 0\n",
    "    chain = []\n",
    "    orphanedJob = 0\n",
    "    for j in range(1,nbJobs):\n",
    "        orphanedJob = 1 # means one job exists in the chain\n",
    "        if (due[j] - due[j-1] <= pr):\n",
    "            orphanedJob = 0\n",
    "            chain.append((c,j-1))\n",
    "            chain.append((c,j))\n",
    "        elif orphanedJob == 1:\n",
    "            chain.append((c,j-1))\n",
    "            c = c + 1\n",
    "    chain.append((0,0))\n",
    "    if (c,nbJobs-1) not in chain:\n",
    "        chain.append((c,nbJobs-1))\n",
    "    return list(OrderedDict.fromkeys(chain))\n",
    "# new function\n",
    "def isJobsStraddle(chain,s,pr):\n",
    "    chainInd,jobInd = zip(*chain) # unzip a list of tuple\n",
    "    for c in range(max(chainInd)+1):\n",
    "        jobIndPerChain = [jobInd[i] for i in range(len(jobInd)) if chainInd[i]==c]\n",
    "        if s[jobIndPerChain[-1]] - s[jobIndPerChain[0]] < (len(jobIndPerChain)-1)*pr:\n",
    "            return True\n",
    "            break\n",
    "# new function\n",
    "def startCorrect(chain,s,pr,t,due):\n",
    "    chainInd,jobInd = zip(*chain) # unzip a list of tuple\n",
    "    for c in range(max(chainInd)+1):\n",
    "        jobIndPerChain = [jobInd[i] for i in range(len(jobInd)) if chainInd[i]==c]\n",
    "        if s[jobIndPerChain[-1]] - s[jobIndPerChain[0]] < (len(jobIndPerChain)-1)*pr:\n",
    "            s[jobIndPerChain[0]] = np.maximum(t, int(np.median([due[jobIndPerChain[j]]-(j+1)*pr for j in range(len(jobIndPerChain))])))\n",
    "            for j in jobIndPerChain:\n",
    "                if j!=jobIndPerChain[0]:\n",
    "                    s[j] = s[jobIndPerChain[0]] + (j-jobIndPerChain[0])*pr\n",
    "    return s\n",
    "# new function\n",
    "def reDetectChain(nbJobs,s,pr):\n",
    "    c = 0\n",
    "    chain = []\n",
    "    orphanedJob = 0\n",
    "    for j in range(nbJobs-1):\n",
    "        orphanedJob = 1 # means one job exists in the chain\n",
    "        if s[j] + pr >= s[j+1]:\n",
    "            orphanedJob = 0\n",
    "            chain.append((c,j))\n",
    "            chain.append((c,j+1))\n",
    "        elif orphanedJob == 1:\n",
    "            chain.append((c,j))\n",
    "            c = c + 1\n",
    "    chain.append((0,0))\n",
    "    if (c,nbJobs-1) not in chain:\n",
    "        chain.append((c,nbJobs-1))\n",
    "    return list(OrderedDict.fromkeys(chain))\n",
    "# new function\n",
    "def objEarlinessTardinessTotal(nbJobs,s,due,pr):\n",
    "    return sum(np.absolute(s[j]+pr-due[j]) for j in range(nbJobs))"
   ]
  },
  {
   "cell_type": "code",
   "execution_count": 23,
   "metadata": {
    "colab": {},
    "colab_type": "code",
    "id": "xrKYgyqkBVUK"
   },
   "outputs": [],
   "source": [
    "def ClusterOmedianIZE(nbJobs,s,pr,t,due):\n",
    "# sort based on EDD rule\n",
    "    chain = detectChainFirst(nbJobs,due,s,pr)\n",
    "    while isJobsStraddle(chain,s,pr):\n",
    "        s = startCorrect(chain,s,pr,t,due)\n",
    "        chain = reDetectChain(nbJobs,s,pr)\n",
    "    return s"
   ]
  },
  {
   "cell_type": "code",
   "execution_count": 24,
   "metadata": {
    "colab": {
     "base_uri": "https://localhost:8080/",
     "height": 72
    },
    "colab_type": "code",
    "id": "yBXnUnk1BYGm",
    "outputId": "5a8064b9-073c-4982-c4a8-75f510338609"
   },
   "outputs": [
    {
     "name": "stdout",
     "output_type": "stream",
     "text": [
      "[82, 114, 119, 124, 172, 177, 182, 187, 192, 237, 246, 251, 280]\n",
      "16\n"
     ]
    }
   ],
   "source": [
    "# proc = 5\n",
    "# due = [15,16,18,33,35]\n",
    "\n",
    "proc = 5\n",
    "due = [ 87, 285, 190, 122, 187, 253, 183, 129, 242, 194, 179, 254, 121]\n",
    "\n",
    "# proc = 5;\n",
    "# due  = [ 87, 285, 190, 122, 187, 253, 183, 129, 242, 194, 179, 254, 121,\n",
    "#        287, 184,  75, 228,  70, 151, 196, 262, 189, 284, 206, 207, 192,\n",
    "#        100, 118, 265, 265, 283, 291, 297, 272, 146, 136, 191, 283, 187,\n",
    "#         57, 113, 111,  72, 107,  51, 178, 110, 259,  58, 266, 191, 165,\n",
    "#        225, 284, 171, 250,  80, 121, 181, 248, 199,  99, 107,  53, 246,\n",
    "#         74, 291,  93, 126,  76, 102, 130, 159, 165,  91, 260,  65, 114,\n",
    "#        246,  75, 161, 276, 265, 185,  76, 203, 154,  72,  59, 245, 281,\n",
    "#        176,  73, 175, 150, 205, 215, 107, 133, 216];\n",
    "\n",
    "\n",
    "\n",
    "nbJobs = len(due)\n",
    "job = range(nbJobs)\n",
    "due = sorted([due[j] for j in job])\n",
    "s = [j-proc for j in due]\n",
    "s = ClusterOmedianIZE(nbJobs,s,proc,0,due)\n",
    "print( s)\n",
    "print (objEarlinessTardinessTotal(nbJobs,s,due,proc))"
   ]
  },
  {
   "cell_type": "code",
   "execution_count": null,
   "metadata": {},
   "outputs": [],
   "source": []
  }
 ],
 "metadata": {
  "accelerator": "GPU",
  "colab": {
   "collapsed_sections": [],
   "name": "Copy of EqualEarlinessTardiness.ipynb",
   "provenance": [],
   "version": "0.3.2"
  },
  "kernelspec": {
   "display_name": "Python 3 (ipykernel)",
   "language": "python",
   "name": "python3"
  },
  "language_info": {
   "codemirror_mode": {
    "name": "ipython",
    "version": 3
   },
   "file_extension": ".py",
   "mimetype": "text/x-python",
   "name": "python",
   "nbconvert_exporter": "python",
   "pygments_lexer": "ipython3",
   "version": "3.9.7"
  }
 },
 "nbformat": 4,
 "nbformat_minor": 4
}
